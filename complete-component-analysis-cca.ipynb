{
 "cells": [
  {
   "cell_type": "code",
   "execution_count": 1,
   "id": "bca11edb",
   "metadata": {
    "_cell_guid": "b1076dfc-b9ad-4769-8c92-a6c4dae69d19",
    "_kg_hide-input": true,
    "_uuid": "8f2839f25d086af736a60e9eeb907d3b93b6e0e5",
    "execution": {
     "iopub.execute_input": "2024-01-04T12:25:33.636070Z",
     "iopub.status.busy": "2024-01-04T12:25:33.634963Z",
     "iopub.status.idle": "2024-01-04T12:25:34.632111Z",
     "shell.execute_reply": "2024-01-04T12:25:34.630631Z"
    },
    "papermill": {
     "duration": 1.013247,
     "end_time": "2024-01-04T12:25:34.636051",
     "exception": false,
     "start_time": "2024-01-04T12:25:33.622804",
     "status": "completed"
    },
    "tags": []
   },
   "outputs": [
    {
     "name": "stdout",
     "output_type": "stream",
     "text": [
      "/kaggle/input/regression-technique-eda/House Price Regression Tecnique/sample_submission.csv\n",
      "/kaggle/input/regression-technique-eda/House Price Regression Tecnique/data_description.txt\n",
      "/kaggle/input/regression-technique-eda/House Price Regression Tecnique/train.csv\n",
      "/kaggle/input/regression-technique-eda/House Price Regression Tecnique/Project On House Price data .ipynb\n",
      "/kaggle/input/regression-technique-eda/House Price Regression Tecnique/test.csv\n"
     ]
    }
   ],
   "source": [
    "# This Python 3 environment comes with many helpful analytics libraries installed\n",
    "# It is defined by the kaggle/python Docker image: https://github.com/kaggle/docker-python\n",
    "# For example, here's several helpful packages to load\n",
    "\n",
    "import numpy as np # linear algebra\n",
    "import pandas as pd # data processing, CSV file I/O (e.g. pd.read_csv)\n",
    "\n",
    "# Input data files are available in the read-only \"../input/\" directory\n",
    "# For example, running this (by clicking run or pressing Shift+Enter) will list all files under the input directory\n",
    "\n",
    "import os\n",
    "for dirname, _, filenames in os.walk('/kaggle/input'):\n",
    "    for filename in filenames:\n",
    "        print(os.path.join(dirname, filename))\n",
    "\n",
    "# You can write up to 20GB to the current directory (/kaggle/working/) that gets preserved as output when you create a version using \"Save & Run All\" \n",
    "# You can also write temporary files to /kaggle/temp/, but they won't be saved outside of the current session"
   ]
  },
  {
   "cell_type": "code",
   "execution_count": 2,
   "id": "16477ae4",
   "metadata": {
    "execution": {
     "iopub.execute_input": "2024-01-04T12:25:34.663269Z",
     "iopub.status.busy": "2024-01-04T12:25:34.662475Z",
     "iopub.status.idle": "2024-01-04T12:25:34.670180Z",
     "shell.execute_reply": "2024-01-04T12:25:34.669045Z"
    },
    "papermill": {
     "duration": 0.02313,
     "end_time": "2024-01-04T12:25:34.672833",
     "exception": false,
     "start_time": "2024-01-04T12:25:34.649703",
     "status": "completed"
    },
    "tags": []
   },
   "outputs": [],
   "source": [
    "import matplotlib.pyplot as plt\n",
    "%matplotlib inline"
   ]
  },
  {
   "cell_type": "markdown",
   "id": "f063d110",
   "metadata": {
    "papermill": {
     "duration": 0.012937,
     "end_time": "2024-01-04T12:25:34.699389",
     "exception": false,
     "start_time": "2024-01-04T12:25:34.686452",
     "status": "completed"
    },
    "tags": []
   },
   "source": [
    "<h1 style=\"background-color:#E2E2E2 ; color: #19747E; padding: 20px;\">Complete Component Analysis</h1>"
   ]
  },
  {
   "cell_type": "markdown",
   "id": "32c03e94",
   "metadata": {
    "papermill": {
     "duration": 0.013117,
     "end_time": "2024-01-04T12:25:34.726044",
     "exception": false,
     "start_time": "2024-01-04T12:25:34.712927",
     "status": "completed"
    },
    "tags": []
   },
   "source": [
    "<p style=\"background-color:#E2E2E2; color: #19747E; padding: 20px; font-size: 18px;\">\n",
    " 🚀 Welcome this notebook of Feature Engineering! Let us  into the magic of Complete Component Analysis. This technique decides the fate of features with a flick of its analytical wand. ✨🔍\n",
    "<br>\n",
    "    No smoke, no mirrors – just the elegant simplicity of discarding missing data . 🌟📊✨ We will simply be removing all the NAN values preseving the distribution of data 🎨🌌\n",
    "  </p>\n",
    "  </p>"
   ]
  },
  {
   "cell_type": "markdown",
   "id": "fd56d796",
   "metadata": {
    "papermill": {
     "duration": 0.010449,
     "end_time": "2024-01-04T12:25:34.750027",
     "exception": false,
     "start_time": "2024-01-04T12:25:34.739578",
     "status": "completed"
    },
    "tags": []
   },
   "source": [
    "<p style=\"background-color:#E2E2E2; color: #19747E; padding: 20px; font-size: 18px;\">\n",
    " <u>Use When :</u><br>\n",
    "    1) Suitable for both <i>Categorical and Numerical data</i> 📊🔢<br>\n",
    "    2) Preserves the original distribution of data 🔄📊<br>\n",
    "    3) Variable is <i><u>missing completely at random</u></i> 🎭🌐<br>\n",
    "    4) Missing data is a very small percentage of total data, around <b>5%</b> 📉🔍\n",
    "    </p>\n",
    " "
   ]
  },
  {
   "cell_type": "markdown",
   "id": "d867d2a7",
   "metadata": {
    "papermill": {
     "duration": 0.009559,
     "end_time": "2024-01-04T12:25:34.769665",
     "exception": false,
     "start_time": "2024-01-04T12:25:34.760106",
     "status": "completed"
    },
    "tags": []
   },
   "source": [
    "<p style=\"background-color:#E2E2E2; color: #19747E; padding: 20px; font-size: 18px;\">\n",
    "    <u>Not Ideal When :</u><br>\n",
    "    1) A variable has a big proportion of NA ❌📊<br>\n",
    "    2) Different variables have different attributes with NaN ❌🔄📈<br>\n",
    "    3) Don't use CCA when a large number of values are missing, especially not missing completely at random ❌📉🔍 </p>"
   ]
  },
  {
   "cell_type": "code",
   "execution_count": 3,
   "id": "8b631fa2",
   "metadata": {
    "execution": {
     "iopub.execute_input": "2024-01-04T12:25:34.791235Z",
     "iopub.status.busy": "2024-01-04T12:25:34.790829Z",
     "iopub.status.idle": "2024-01-04T12:25:34.861168Z",
     "shell.execute_reply": "2024-01-04T12:25:34.860178Z"
    },
    "papermill": {
     "duration": 0.084103,
     "end_time": "2024-01-04T12:25:34.863777",
     "exception": false,
     "start_time": "2024-01-04T12:25:34.779674",
     "status": "completed"
    },
    "tags": []
   },
   "outputs": [],
   "source": [
    "df = pd.read_csv('/kaggle/input/regression-technique-eda/House Price Regression Tecnique/train.csv')\n"
   ]
  },
  {
   "cell_type": "code",
   "execution_count": 4,
   "id": "59a5eb1b",
   "metadata": {
    "execution": {
     "iopub.execute_input": "2024-01-04T12:25:34.886942Z",
     "iopub.status.busy": "2024-01-04T12:25:34.885458Z",
     "iopub.status.idle": "2024-01-04T12:25:34.932106Z",
     "shell.execute_reply": "2024-01-04T12:25:34.930787Z"
    },
    "papermill": {
     "duration": 0.061451,
     "end_time": "2024-01-04T12:25:34.935498",
     "exception": false,
     "start_time": "2024-01-04T12:25:34.874047",
     "status": "completed"
    },
    "tags": []
   },
   "outputs": [
    {
     "data": {
      "text/html": [
       "<div>\n",
       "<style scoped>\n",
       "    .dataframe tbody tr th:only-of-type {\n",
       "        vertical-align: middle;\n",
       "    }\n",
       "\n",
       "    .dataframe tbody tr th {\n",
       "        vertical-align: top;\n",
       "    }\n",
       "\n",
       "    .dataframe thead th {\n",
       "        text-align: right;\n",
       "    }\n",
       "</style>\n",
       "<table border=\"1\" class=\"dataframe\">\n",
       "  <thead>\n",
       "    <tr style=\"text-align: right;\">\n",
       "      <th></th>\n",
       "      <th>Id</th>\n",
       "      <th>MSSubClass</th>\n",
       "      <th>MSZoning</th>\n",
       "      <th>LotFrontage</th>\n",
       "      <th>LotArea</th>\n",
       "      <th>Street</th>\n",
       "      <th>Alley</th>\n",
       "      <th>LotShape</th>\n",
       "      <th>LandContour</th>\n",
       "      <th>Utilities</th>\n",
       "      <th>...</th>\n",
       "      <th>PoolArea</th>\n",
       "      <th>PoolQC</th>\n",
       "      <th>Fence</th>\n",
       "      <th>MiscFeature</th>\n",
       "      <th>MiscVal</th>\n",
       "      <th>MoSold</th>\n",
       "      <th>YrSold</th>\n",
       "      <th>SaleType</th>\n",
       "      <th>SaleCondition</th>\n",
       "      <th>SalePrice</th>\n",
       "    </tr>\n",
       "  </thead>\n",
       "  <tbody>\n",
       "    <tr>\n",
       "      <th>0</th>\n",
       "      <td>1</td>\n",
       "      <td>60</td>\n",
       "      <td>RL</td>\n",
       "      <td>65.0</td>\n",
       "      <td>8450</td>\n",
       "      <td>Pave</td>\n",
       "      <td>NaN</td>\n",
       "      <td>Reg</td>\n",
       "      <td>Lvl</td>\n",
       "      <td>AllPub</td>\n",
       "      <td>...</td>\n",
       "      <td>0</td>\n",
       "      <td>NaN</td>\n",
       "      <td>NaN</td>\n",
       "      <td>NaN</td>\n",
       "      <td>0</td>\n",
       "      <td>2</td>\n",
       "      <td>2008</td>\n",
       "      <td>WD</td>\n",
       "      <td>Normal</td>\n",
       "      <td>208500</td>\n",
       "    </tr>\n",
       "    <tr>\n",
       "      <th>1</th>\n",
       "      <td>2</td>\n",
       "      <td>20</td>\n",
       "      <td>RL</td>\n",
       "      <td>80.0</td>\n",
       "      <td>9600</td>\n",
       "      <td>Pave</td>\n",
       "      <td>NaN</td>\n",
       "      <td>Reg</td>\n",
       "      <td>Lvl</td>\n",
       "      <td>AllPub</td>\n",
       "      <td>...</td>\n",
       "      <td>0</td>\n",
       "      <td>NaN</td>\n",
       "      <td>NaN</td>\n",
       "      <td>NaN</td>\n",
       "      <td>0</td>\n",
       "      <td>5</td>\n",
       "      <td>2007</td>\n",
       "      <td>WD</td>\n",
       "      <td>Normal</td>\n",
       "      <td>181500</td>\n",
       "    </tr>\n",
       "    <tr>\n",
       "      <th>2</th>\n",
       "      <td>3</td>\n",
       "      <td>60</td>\n",
       "      <td>RL</td>\n",
       "      <td>68.0</td>\n",
       "      <td>11250</td>\n",
       "      <td>Pave</td>\n",
       "      <td>NaN</td>\n",
       "      <td>IR1</td>\n",
       "      <td>Lvl</td>\n",
       "      <td>AllPub</td>\n",
       "      <td>...</td>\n",
       "      <td>0</td>\n",
       "      <td>NaN</td>\n",
       "      <td>NaN</td>\n",
       "      <td>NaN</td>\n",
       "      <td>0</td>\n",
       "      <td>9</td>\n",
       "      <td>2008</td>\n",
       "      <td>WD</td>\n",
       "      <td>Normal</td>\n",
       "      <td>223500</td>\n",
       "    </tr>\n",
       "    <tr>\n",
       "      <th>3</th>\n",
       "      <td>4</td>\n",
       "      <td>70</td>\n",
       "      <td>RL</td>\n",
       "      <td>60.0</td>\n",
       "      <td>9550</td>\n",
       "      <td>Pave</td>\n",
       "      <td>NaN</td>\n",
       "      <td>IR1</td>\n",
       "      <td>Lvl</td>\n",
       "      <td>AllPub</td>\n",
       "      <td>...</td>\n",
       "      <td>0</td>\n",
       "      <td>NaN</td>\n",
       "      <td>NaN</td>\n",
       "      <td>NaN</td>\n",
       "      <td>0</td>\n",
       "      <td>2</td>\n",
       "      <td>2006</td>\n",
       "      <td>WD</td>\n",
       "      <td>Abnorml</td>\n",
       "      <td>140000</td>\n",
       "    </tr>\n",
       "    <tr>\n",
       "      <th>4</th>\n",
       "      <td>5</td>\n",
       "      <td>60</td>\n",
       "      <td>RL</td>\n",
       "      <td>84.0</td>\n",
       "      <td>14260</td>\n",
       "      <td>Pave</td>\n",
       "      <td>NaN</td>\n",
       "      <td>IR1</td>\n",
       "      <td>Lvl</td>\n",
       "      <td>AllPub</td>\n",
       "      <td>...</td>\n",
       "      <td>0</td>\n",
       "      <td>NaN</td>\n",
       "      <td>NaN</td>\n",
       "      <td>NaN</td>\n",
       "      <td>0</td>\n",
       "      <td>12</td>\n",
       "      <td>2008</td>\n",
       "      <td>WD</td>\n",
       "      <td>Normal</td>\n",
       "      <td>250000</td>\n",
       "    </tr>\n",
       "  </tbody>\n",
       "</table>\n",
       "<p>5 rows × 81 columns</p>\n",
       "</div>"
      ],
      "text/plain": [
       "   Id  MSSubClass MSZoning  LotFrontage  LotArea Street Alley LotShape  \\\n",
       "0   1          60       RL         65.0     8450   Pave   NaN      Reg   \n",
       "1   2          20       RL         80.0     9600   Pave   NaN      Reg   \n",
       "2   3          60       RL         68.0    11250   Pave   NaN      IR1   \n",
       "3   4          70       RL         60.0     9550   Pave   NaN      IR1   \n",
       "4   5          60       RL         84.0    14260   Pave   NaN      IR1   \n",
       "\n",
       "  LandContour Utilities  ... PoolArea PoolQC Fence MiscFeature MiscVal MoSold  \\\n",
       "0         Lvl    AllPub  ...        0    NaN   NaN         NaN       0      2   \n",
       "1         Lvl    AllPub  ...        0    NaN   NaN         NaN       0      5   \n",
       "2         Lvl    AllPub  ...        0    NaN   NaN         NaN       0      9   \n",
       "3         Lvl    AllPub  ...        0    NaN   NaN         NaN       0      2   \n",
       "4         Lvl    AllPub  ...        0    NaN   NaN         NaN       0     12   \n",
       "\n",
       "  YrSold  SaleType  SaleCondition  SalePrice  \n",
       "0   2008        WD         Normal     208500  \n",
       "1   2007        WD         Normal     181500  \n",
       "2   2008        WD         Normal     223500  \n",
       "3   2006        WD        Abnorml     140000  \n",
       "4   2008        WD         Normal     250000  \n",
       "\n",
       "[5 rows x 81 columns]"
      ]
     },
     "execution_count": 4,
     "metadata": {},
     "output_type": "execute_result"
    }
   ],
   "source": [
    "df.head()"
   ]
  },
  {
   "cell_type": "code",
   "execution_count": 5,
   "id": "5f7d9384",
   "metadata": {
    "execution": {
     "iopub.execute_input": "2024-01-04T12:25:34.959301Z",
     "iopub.status.busy": "2024-01-04T12:25:34.958909Z",
     "iopub.status.idle": "2024-01-04T12:25:34.978447Z",
     "shell.execute_reply": "2024-01-04T12:25:34.977286Z"
    },
    "papermill": {
     "duration": 0.036556,
     "end_time": "2024-01-04T12:25:34.982683",
     "exception": false,
     "start_time": "2024-01-04T12:25:34.946127",
     "status": "completed"
    },
    "tags": []
   },
   "outputs": [
    {
     "data": {
      "text/plain": [
       "Id                 0\n",
       "MSSubClass         0\n",
       "MSZoning           0\n",
       "LotFrontage      259\n",
       "LotArea            0\n",
       "                ... \n",
       "MoSold             0\n",
       "YrSold             0\n",
       "SaleType           0\n",
       "SaleCondition      0\n",
       "SalePrice          0\n",
       "Length: 81, dtype: int64"
      ]
     },
     "execution_count": 5,
     "metadata": {},
     "output_type": "execute_result"
    }
   ],
   "source": [
    "df.isnull().sum()"
   ]
  },
  {
   "cell_type": "code",
   "execution_count": 6,
   "id": "062f7b31",
   "metadata": {
    "execution": {
     "iopub.execute_input": "2024-01-04T12:25:35.008078Z",
     "iopub.status.busy": "2024-01-04T12:25:35.007655Z",
     "iopub.status.idle": "2024-01-04T12:25:35.015766Z",
     "shell.execute_reply": "2024-01-04T12:25:35.014611Z"
    },
    "papermill": {
     "duration": 0.024124,
     "end_time": "2024-01-04T12:25:35.018812",
     "exception": false,
     "start_time": "2024-01-04T12:25:34.994688",
     "status": "completed"
    },
    "tags": []
   },
   "outputs": [
    {
     "data": {
      "text/plain": [
       "Index(['Id', 'MSSubClass', 'MSZoning', 'LotFrontage', 'LotArea', 'Street',\n",
       "       'Alley', 'LotShape', 'LandContour', 'Utilities', 'LotConfig',\n",
       "       'LandSlope', 'Neighborhood', 'Condition1', 'Condition2', 'BldgType',\n",
       "       'HouseStyle', 'OverallQual', 'OverallCond', 'YearBuilt', 'YearRemodAdd',\n",
       "       'RoofStyle', 'RoofMatl', 'Exterior1st', 'Exterior2nd', 'MasVnrType',\n",
       "       'MasVnrArea', 'ExterQual', 'ExterCond', 'Foundation', 'BsmtQual',\n",
       "       'BsmtCond', 'BsmtExposure', 'BsmtFinType1', 'BsmtFinSF1',\n",
       "       'BsmtFinType2', 'BsmtFinSF2', 'BsmtUnfSF', 'TotalBsmtSF', 'Heating',\n",
       "       'HeatingQC', 'CentralAir', 'Electrical', '1stFlrSF', '2ndFlrSF',\n",
       "       'LowQualFinSF', 'GrLivArea', 'BsmtFullBath', 'BsmtHalfBath', 'FullBath',\n",
       "       'HalfBath', 'BedroomAbvGr', 'KitchenAbvGr', 'KitchenQual',\n",
       "       'TotRmsAbvGrd', 'Functional', 'Fireplaces', 'FireplaceQu', 'GarageType',\n",
       "       'GarageYrBlt', 'GarageFinish', 'GarageCars', 'GarageArea', 'GarageQual',\n",
       "       'GarageCond', 'PavedDrive', 'WoodDeckSF', 'OpenPorchSF',\n",
       "       'EnclosedPorch', '3SsnPorch', 'ScreenPorch', 'PoolArea', 'PoolQC',\n",
       "       'Fence', 'MiscFeature', 'MiscVal', 'MoSold', 'YrSold', 'SaleType',\n",
       "       'SaleCondition', 'SalePrice'],\n",
       "      dtype='object')"
      ]
     },
     "execution_count": 6,
     "metadata": {},
     "output_type": "execute_result"
    }
   ],
   "source": [
    "df.columns"
   ]
  },
  {
   "cell_type": "code",
   "execution_count": 7,
   "id": "022bdd45",
   "metadata": {
    "execution": {
     "iopub.execute_input": "2024-01-04T12:25:35.044074Z",
     "iopub.status.busy": "2024-01-04T12:25:35.043177Z",
     "iopub.status.idle": "2024-01-04T12:25:35.056824Z",
     "shell.execute_reply": "2024-01-04T12:25:35.055852Z"
    },
    "papermill": {
     "duration": 0.028881,
     "end_time": "2024-01-04T12:25:35.059688",
     "exception": false,
     "start_time": "2024-01-04T12:25:35.030807",
     "status": "completed"
    },
    "tags": []
   },
   "outputs": [],
   "source": [
    "columns_with_null = df.columns[df.isnull().any()]"
   ]
  },
  {
   "cell_type": "code",
   "execution_count": 8,
   "id": "15d9e0df",
   "metadata": {
    "execution": {
     "iopub.execute_input": "2024-01-04T12:25:35.087029Z",
     "iopub.status.busy": "2024-01-04T12:25:35.086498Z",
     "iopub.status.idle": "2024-01-04T12:25:35.105840Z",
     "shell.execute_reply": "2024-01-04T12:25:35.104670Z"
    },
    "papermill": {
     "duration": 0.0367,
     "end_time": "2024-01-04T12:25:35.108319",
     "exception": false,
     "start_time": "2024-01-04T12:25:35.071619",
     "status": "completed"
    },
    "tags": []
   },
   "outputs": [
    {
     "data": {
      "text/plain": [
       "Id                 0\n",
       "MSSubClass         0\n",
       "MSZoning           0\n",
       "LotFrontage      259\n",
       "LotArea            0\n",
       "                ... \n",
       "MoSold             0\n",
       "YrSold             0\n",
       "SaleType           0\n",
       "SaleCondition      0\n",
       "SalePrice          0\n",
       "Length: 81, dtype: int64"
      ]
     },
     "execution_count": 8,
     "metadata": {},
     "output_type": "execute_result"
    }
   ],
   "source": [
    "df.isnull().sum()"
   ]
  },
  {
   "cell_type": "markdown",
   "id": "eaf84dcc",
   "metadata": {
    "papermill": {
     "duration": 0.012107,
     "end_time": "2024-01-04T12:25:35.134538",
     "exception": false,
     "start_time": "2024-01-04T12:25:35.122431",
     "status": "completed"
    },
    "tags": []
   },
   "source": [
    "<p style=\"background-color:#E2E2E2; color: #19747E; padding: 20px; font-size: 18px;\">\n",
    "    <u>🕵️‍♂️Let's delve into the details of what is being done !</u><br><br>\n",
    "📊 Firstly, all variables with NaN values are gathered and stored in a variable named 'var_with_na'. 💡<br><br>\n",
    "    📉 The next step involves creating a comprehensive variable named 'data_na'which maps out columns with null values and their respective counts. 🗺️ This provides a detailed overview of the extent of missing data.<br><br>\n",
    " 💻 Transforming 'data_na' into a DataFrame offers a tabular  representation displaying the  attributes with NaN values and their corresponding percentages.<br><br>\n",
    "🔍 Armed with this information, we gain insights into the distribution of missing values, empowering us to make informed decisions on how to handle them in our dataset. 🚀\n",
    "</p>"
   ]
  },
  {
   "cell_type": "code",
   "execution_count": 9,
   "id": "349f49dc",
   "metadata": {
    "execution": {
     "iopub.execute_input": "2024-01-04T12:25:35.159892Z",
     "iopub.status.busy": "2024-01-04T12:25:35.158560Z",
     "iopub.status.idle": "2024-01-04T12:25:35.173896Z",
     "shell.execute_reply": "2024-01-04T12:25:35.171923Z"
    },
    "papermill": {
     "duration": 0.031358,
     "end_time": "2024-01-04T12:25:35.177205",
     "exception": false,
     "start_time": "2024-01-04T12:25:35.145847",
     "status": "completed"
    },
    "tags": []
   },
   "outputs": [
    {
     "name": "stdout",
     "output_type": "stream",
     "text": [
      "LotFrontage : 259\n",
      "Alley : 1369\n",
      "MasVnrType : 872\n",
      "MasVnrArea : 8\n",
      "BsmtQual : 37\n",
      "BsmtCond : 37\n",
      "BsmtExposure : 38\n",
      "BsmtFinType1 : 37\n",
      "BsmtFinType2 : 38\n",
      "Electrical : 1\n",
      "FireplaceQu : 690\n",
      "GarageType : 81\n",
      "GarageYrBlt : 81\n",
      "GarageFinish : 81\n",
      "GarageQual : 81\n",
      "GarageCond : 81\n",
      "PoolQC : 1453\n",
      "Fence : 1179\n",
      "MiscFeature : 1406\n"
     ]
    }
   ],
   "source": [
    "for column in columns_with_null :\n",
    "    null_count = df[column].isnull().sum()\n",
    "    print(f\"{column} : {null_count}\")"
   ]
  },
  {
   "cell_type": "code",
   "execution_count": 10,
   "id": "8963286c",
   "metadata": {
    "execution": {
     "iopub.execute_input": "2024-01-04T12:25:35.210389Z",
     "iopub.status.busy": "2024-01-04T12:25:35.209111Z",
     "iopub.status.idle": "2024-01-04T12:25:35.260886Z",
     "shell.execute_reply": "2024-01-04T12:25:35.259471Z"
    },
    "papermill": {
     "duration": 0.070193,
     "end_time": "2024-01-04T12:25:35.263914",
     "exception": false,
     "start_time": "2024-01-04T12:25:35.193721",
     "status": "completed"
    },
    "tags": []
   },
   "outputs": [],
   "source": [
    "var_with_na = [var for var in df.columns if df[var].isnull().mean()>0]"
   ]
  },
  {
   "cell_type": "markdown",
   "id": "8917bfc8",
   "metadata": {
    "papermill": {
     "duration": 0.010712,
     "end_time": "2024-01-04T12:25:35.285958",
     "exception": false,
     "start_time": "2024-01-04T12:25:35.275246",
     "status": "completed"
    },
    "tags": []
   },
   "source": [
    "<p style=\"background-color:#E2E2E2; color: #19747E; padding: 20px; font-size: 18px;\">\n",
    "    📋 'var_with_na' is a curated list of attributes suitable for Complete Component Analysis (CCA) as these attributes contain a nan component of less than 5%. 🧐📉\n",
    "</p>\n"
   ]
  },
  {
   "cell_type": "code",
   "execution_count": 11,
   "id": "ca52ee9b",
   "metadata": {
    "execution": {
     "iopub.execute_input": "2024-01-04T12:25:35.312241Z",
     "iopub.status.busy": "2024-01-04T12:25:35.311755Z",
     "iopub.status.idle": "2024-01-04T12:25:35.321144Z",
     "shell.execute_reply": "2024-01-04T12:25:35.319063Z"
    },
    "papermill": {
     "duration": 0.026978,
     "end_time": "2024-01-04T12:25:35.324663",
     "exception": false,
     "start_time": "2024-01-04T12:25:35.297685",
     "status": "completed"
    },
    "tags": []
   },
   "outputs": [
    {
     "data": {
      "text/plain": [
       "['LotFrontage',\n",
       " 'Alley',\n",
       " 'MasVnrType',\n",
       " 'MasVnrArea',\n",
       " 'BsmtQual',\n",
       " 'BsmtCond',\n",
       " 'BsmtExposure',\n",
       " 'BsmtFinType1',\n",
       " 'BsmtFinType2',\n",
       " 'Electrical',\n",
       " 'FireplaceQu',\n",
       " 'GarageType',\n",
       " 'GarageYrBlt',\n",
       " 'GarageFinish',\n",
       " 'GarageQual',\n",
       " 'GarageCond',\n",
       " 'PoolQC',\n",
       " 'Fence',\n",
       " 'MiscFeature']"
      ]
     },
     "execution_count": 11,
     "metadata": {},
     "output_type": "execute_result"
    }
   ],
   "source": [
    "var_with_na "
   ]
  },
  {
   "cell_type": "code",
   "execution_count": 12,
   "id": "d4773125",
   "metadata": {
    "execution": {
     "iopub.execute_input": "2024-01-04T12:25:35.361624Z",
     "iopub.status.busy": "2024-01-04T12:25:35.361125Z",
     "iopub.status.idle": "2024-01-04T12:25:35.378807Z",
     "shell.execute_reply": "2024-01-04T12:25:35.377635Z"
    },
    "papermill": {
     "duration": 0.038918,
     "end_time": "2024-01-04T12:25:35.381334",
     "exception": false,
     "start_time": "2024-01-04T12:25:35.342416",
     "status": "completed"
    },
    "tags": []
   },
   "outputs": [
    {
     "data": {
      "text/plain": [
       "LotFrontage     0.177397\n",
       "Alley           0.937671\n",
       "MasVnrType      0.597260\n",
       "MasVnrArea      0.005479\n",
       "BsmtQual        0.025342\n",
       "BsmtCond        0.025342\n",
       "BsmtExposure    0.026027\n",
       "BsmtFinType1    0.025342\n",
       "BsmtFinType2    0.026027\n",
       "Electrical      0.000685\n",
       "FireplaceQu     0.472603\n",
       "GarageType      0.055479\n",
       "GarageYrBlt     0.055479\n",
       "GarageFinish    0.055479\n",
       "GarageQual      0.055479\n",
       "GarageCond      0.055479\n",
       "PoolQC          0.995205\n",
       "Fence           0.807534\n",
       "MiscFeature     0.963014\n",
       "dtype: float64"
      ]
     },
     "execution_count": 12,
     "metadata": {},
     "output_type": "execute_result"
    }
   ],
   "source": [
    "data_na = df[var_with_na].isnull().mean()\n",
    "data_na"
   ]
  },
  {
   "cell_type": "code",
   "execution_count": 13,
   "id": "c8d66596",
   "metadata": {
    "execution": {
     "iopub.execute_input": "2024-01-04T12:25:35.419774Z",
     "iopub.status.busy": "2024-01-04T12:25:35.418606Z",
     "iopub.status.idle": "2024-01-04T12:25:35.443641Z",
     "shell.execute_reply": "2024-01-04T12:25:35.442317Z"
    },
    "papermill": {
     "duration": 0.048991,
     "end_time": "2024-01-04T12:25:35.446937",
     "exception": false,
     "start_time": "2024-01-04T12:25:35.397946",
     "status": "completed"
    },
    "tags": []
   },
   "outputs": [
    {
     "data": {
      "text/html": [
       "<div>\n",
       "<style scoped>\n",
       "    .dataframe tbody tr th:only-of-type {\n",
       "        vertical-align: middle;\n",
       "    }\n",
       "\n",
       "    .dataframe tbody tr th {\n",
       "        vertical-align: top;\n",
       "    }\n",
       "\n",
       "    .dataframe thead th {\n",
       "        text-align: right;\n",
       "    }\n",
       "</style>\n",
       "<table border=\"1\" class=\"dataframe\">\n",
       "  <thead>\n",
       "    <tr style=\"text-align: right;\">\n",
       "      <th></th>\n",
       "      <th>variable</th>\n",
       "      <th>na_percentage</th>\n",
       "    </tr>\n",
       "  </thead>\n",
       "  <tbody>\n",
       "    <tr>\n",
       "      <th>16</th>\n",
       "      <td>PoolQC</td>\n",
       "      <td>0.995205</td>\n",
       "    </tr>\n",
       "    <tr>\n",
       "      <th>18</th>\n",
       "      <td>MiscFeature</td>\n",
       "      <td>0.963014</td>\n",
       "    </tr>\n",
       "    <tr>\n",
       "      <th>1</th>\n",
       "      <td>Alley</td>\n",
       "      <td>0.937671</td>\n",
       "    </tr>\n",
       "    <tr>\n",
       "      <th>17</th>\n",
       "      <td>Fence</td>\n",
       "      <td>0.807534</td>\n",
       "    </tr>\n",
       "    <tr>\n",
       "      <th>2</th>\n",
       "      <td>MasVnrType</td>\n",
       "      <td>0.597260</td>\n",
       "    </tr>\n",
       "    <tr>\n",
       "      <th>10</th>\n",
       "      <td>FireplaceQu</td>\n",
       "      <td>0.472603</td>\n",
       "    </tr>\n",
       "    <tr>\n",
       "      <th>0</th>\n",
       "      <td>LotFrontage</td>\n",
       "      <td>0.177397</td>\n",
       "    </tr>\n",
       "    <tr>\n",
       "      <th>11</th>\n",
       "      <td>GarageType</td>\n",
       "      <td>0.055479</td>\n",
       "    </tr>\n",
       "    <tr>\n",
       "      <th>12</th>\n",
       "      <td>GarageYrBlt</td>\n",
       "      <td>0.055479</td>\n",
       "    </tr>\n",
       "    <tr>\n",
       "      <th>13</th>\n",
       "      <td>GarageFinish</td>\n",
       "      <td>0.055479</td>\n",
       "    </tr>\n",
       "    <tr>\n",
       "      <th>14</th>\n",
       "      <td>GarageQual</td>\n",
       "      <td>0.055479</td>\n",
       "    </tr>\n",
       "    <tr>\n",
       "      <th>15</th>\n",
       "      <td>GarageCond</td>\n",
       "      <td>0.055479</td>\n",
       "    </tr>\n",
       "    <tr>\n",
       "      <th>8</th>\n",
       "      <td>BsmtFinType2</td>\n",
       "      <td>0.026027</td>\n",
       "    </tr>\n",
       "    <tr>\n",
       "      <th>6</th>\n",
       "      <td>BsmtExposure</td>\n",
       "      <td>0.026027</td>\n",
       "    </tr>\n",
       "    <tr>\n",
       "      <th>7</th>\n",
       "      <td>BsmtFinType1</td>\n",
       "      <td>0.025342</td>\n",
       "    </tr>\n",
       "    <tr>\n",
       "      <th>5</th>\n",
       "      <td>BsmtCond</td>\n",
       "      <td>0.025342</td>\n",
       "    </tr>\n",
       "    <tr>\n",
       "      <th>4</th>\n",
       "      <td>BsmtQual</td>\n",
       "      <td>0.025342</td>\n",
       "    </tr>\n",
       "    <tr>\n",
       "      <th>3</th>\n",
       "      <td>MasVnrArea</td>\n",
       "      <td>0.005479</td>\n",
       "    </tr>\n",
       "    <tr>\n",
       "      <th>9</th>\n",
       "      <td>Electrical</td>\n",
       "      <td>0.000685</td>\n",
       "    </tr>\n",
       "  </tbody>\n",
       "</table>\n",
       "</div>"
      ],
      "text/plain": [
       "        variable  na_percentage\n",
       "16        PoolQC       0.995205\n",
       "18   MiscFeature       0.963014\n",
       "1          Alley       0.937671\n",
       "17         Fence       0.807534\n",
       "2     MasVnrType       0.597260\n",
       "10   FireplaceQu       0.472603\n",
       "0    LotFrontage       0.177397\n",
       "11    GarageType       0.055479\n",
       "12   GarageYrBlt       0.055479\n",
       "13  GarageFinish       0.055479\n",
       "14    GarageQual       0.055479\n",
       "15    GarageCond       0.055479\n",
       "8   BsmtFinType2       0.026027\n",
       "6   BsmtExposure       0.026027\n",
       "7   BsmtFinType1       0.025342\n",
       "5       BsmtCond       0.025342\n",
       "4       BsmtQual       0.025342\n",
       "3     MasVnrArea       0.005479\n",
       "9     Electrical       0.000685"
      ]
     },
     "execution_count": 13,
     "metadata": {},
     "output_type": "execute_result"
    }
   ],
   "source": [
    "data_na = pd.DataFrame(data_na.reset_index())\n",
    "data_na.columns = ['variable' , 'na_percentage']\n",
    "data_na.sort_values(by = 'na_percentage', ascending = False , inplace = True)\n",
    "data_na"
   ]
  },
  {
   "cell_type": "code",
   "execution_count": 14,
   "id": "9cd26d03",
   "metadata": {
    "execution": {
     "iopub.execute_input": "2024-01-04T12:25:35.482703Z",
     "iopub.status.busy": "2024-01-04T12:25:35.482134Z",
     "iopub.status.idle": "2024-01-04T12:25:35.511444Z",
     "shell.execute_reply": "2024-01-04T12:25:35.510277Z"
    },
    "papermill": {
     "duration": 0.049585,
     "end_time": "2024-01-04T12:25:35.514217",
     "exception": false,
     "start_time": "2024-01-04T12:25:35.464632",
     "status": "completed"
    },
    "tags": []
   },
   "outputs": [],
   "source": [
    "var_cca = [var for var in df.columns if df[var].isnull().mean()<0.05]"
   ]
  },
  {
   "cell_type": "code",
   "execution_count": 15,
   "id": "36260f5c",
   "metadata": {
    "execution": {
     "iopub.execute_input": "2024-01-04T12:25:35.539801Z",
     "iopub.status.busy": "2024-01-04T12:25:35.539023Z",
     "iopub.status.idle": "2024-01-04T12:25:35.547727Z",
     "shell.execute_reply": "2024-01-04T12:25:35.546459Z"
    },
    "papermill": {
     "duration": 0.024182,
     "end_time": "2024-01-04T12:25:35.550210",
     "exception": false,
     "start_time": "2024-01-04T12:25:35.526028",
     "status": "completed"
    },
    "tags": []
   },
   "outputs": [
    {
     "data": {
      "text/plain": [
       "['Id',\n",
       " 'MSSubClass',\n",
       " 'MSZoning',\n",
       " 'LotArea',\n",
       " 'Street',\n",
       " 'LotShape',\n",
       " 'LandContour',\n",
       " 'Utilities',\n",
       " 'LotConfig',\n",
       " 'LandSlope',\n",
       " 'Neighborhood',\n",
       " 'Condition1',\n",
       " 'Condition2',\n",
       " 'BldgType',\n",
       " 'HouseStyle',\n",
       " 'OverallQual',\n",
       " 'OverallCond',\n",
       " 'YearBuilt',\n",
       " 'YearRemodAdd',\n",
       " 'RoofStyle',\n",
       " 'RoofMatl',\n",
       " 'Exterior1st',\n",
       " 'Exterior2nd',\n",
       " 'MasVnrArea',\n",
       " 'ExterQual',\n",
       " 'ExterCond',\n",
       " 'Foundation',\n",
       " 'BsmtQual',\n",
       " 'BsmtCond',\n",
       " 'BsmtExposure',\n",
       " 'BsmtFinType1',\n",
       " 'BsmtFinSF1',\n",
       " 'BsmtFinType2',\n",
       " 'BsmtFinSF2',\n",
       " 'BsmtUnfSF',\n",
       " 'TotalBsmtSF',\n",
       " 'Heating',\n",
       " 'HeatingQC',\n",
       " 'CentralAir',\n",
       " 'Electrical',\n",
       " '1stFlrSF',\n",
       " '2ndFlrSF',\n",
       " 'LowQualFinSF',\n",
       " 'GrLivArea',\n",
       " 'BsmtFullBath',\n",
       " 'BsmtHalfBath',\n",
       " 'FullBath',\n",
       " 'HalfBath',\n",
       " 'BedroomAbvGr',\n",
       " 'KitchenAbvGr',\n",
       " 'KitchenQual',\n",
       " 'TotRmsAbvGrd',\n",
       " 'Functional',\n",
       " 'Fireplaces',\n",
       " 'GarageCars',\n",
       " 'GarageArea',\n",
       " 'PavedDrive',\n",
       " 'WoodDeckSF',\n",
       " 'OpenPorchSF',\n",
       " 'EnclosedPorch',\n",
       " '3SsnPorch',\n",
       " 'ScreenPorch',\n",
       " 'PoolArea',\n",
       " 'MiscVal',\n",
       " 'MoSold',\n",
       " 'YrSold',\n",
       " 'SaleType',\n",
       " 'SaleCondition',\n",
       " 'SalePrice']"
      ]
     },
     "execution_count": 15,
     "metadata": {},
     "output_type": "execute_result"
    }
   ],
   "source": [
    "var_cca"
   ]
  },
  {
   "cell_type": "markdown",
   "id": "cc9af547",
   "metadata": {
    "papermill": {
     "duration": 0.0116,
     "end_time": "2024-01-04T12:25:35.573454",
     "exception": false,
     "start_time": "2024-01-04T12:25:35.561854",
     "status": "completed"
    },
    "tags": []
   },
   "source": [
    "<p style=\"background-color:#E2E2E2; color: #19747E; padding: 20px; font-size: 18px;\">\n",
    "    📊 The following code illustrates the percentage of values preserved when we drop the NaNs from 'var_cca'. 📈✨\n",
    "<br><br>\n",
    "    🔄 Next, I've provided a visual comparison between the shape of the original data and the data after Complete Component Analysis (CCA). This comparison implies that the data loss is bearable. 📊🔄\n",
    "\n",
    "</p>\n",
    "\n",
    "\n",
    "    "
   ]
  },
  {
   "cell_type": "code",
   "execution_count": 16,
   "id": "e77abf31",
   "metadata": {
    "execution": {
     "iopub.execute_input": "2024-01-04T12:25:35.598918Z",
     "iopub.status.busy": "2024-01-04T12:25:35.598228Z",
     "iopub.status.idle": "2024-01-04T12:25:35.615808Z",
     "shell.execute_reply": "2024-01-04T12:25:35.614706Z"
    },
    "papermill": {
     "duration": 0.034392,
     "end_time": "2024-01-04T12:25:35.619478",
     "exception": false,
     "start_time": "2024-01-04T12:25:35.585086",
     "status": "completed"
    },
    "tags": []
   },
   "outputs": [
    {
     "data": {
      "text/plain": [
       "0.9671232876712329"
      ]
     },
     "execution_count": 16,
     "metadata": {},
     "output_type": "execute_result"
    }
   ],
   "source": [
    "#calculating the part of data without any nan values\n",
    "len(df[var_cca].dropna())/len(df)"
   ]
  },
  {
   "cell_type": "code",
   "execution_count": 17,
   "id": "b027bca5",
   "metadata": {
    "execution": {
     "iopub.execute_input": "2024-01-04T12:25:35.655726Z",
     "iopub.status.busy": "2024-01-04T12:25:35.654740Z",
     "iopub.status.idle": "2024-01-04T12:25:35.675967Z",
     "shell.execute_reply": "2024-01-04T12:25:35.674841Z"
    },
    "papermill": {
     "duration": 0.045487,
     "end_time": "2024-01-04T12:25:35.680551",
     "exception": false,
     "start_time": "2024-01-04T12:25:35.635064",
     "status": "completed"
    },
    "tags": []
   },
   "outputs": [
    {
     "data": {
      "text/plain": [
       "((1460, 81), (1412, 69))"
      ]
     },
     "execution_count": 17,
     "metadata": {},
     "output_type": "execute_result"
    }
   ],
   "source": [
    "data_cca = df[var_cca].dropna()\n",
    "df.shape , data_cca.shape"
   ]
  },
  {
   "cell_type": "code",
   "execution_count": 18,
   "id": "29c1c0f3",
   "metadata": {
    "execution": {
     "iopub.execute_input": "2024-01-04T12:25:35.715761Z",
     "iopub.status.busy": "2024-01-04T12:25:35.715360Z",
     "iopub.status.idle": "2024-01-04T12:25:36.272027Z",
     "shell.execute_reply": "2024-01-04T12:25:36.270618Z"
    },
    "papermill": {
     "duration": 0.577411,
     "end_time": "2024-01-04T12:25:36.275314",
     "exception": false,
     "start_time": "2024-01-04T12:25:35.697903",
     "status": "completed"
    },
    "tags": []
   },
   "outputs": [
    {
     "data": {
      "text/plain": [
       "<Axes: >"
      ]
     },
     "execution_count": 18,
     "metadata": {},
     "output_type": "execute_result"
    },
    {
     "data": {
      "image/png": "[encoded data removed]",
      "text/plain": [
       "<Figure size 640x480 with 1 Axes>"
      ]
     },
     "metadata": {},
     "output_type": "display_data"
    }
   ],
   "source": [
    "fig = plt.figure()\n",
    "ax = fig.add_subplot(111)\n",
    "\n",
    "#plotting the orignal data\n",
    "df['GrLivArea'].hist(bins = 50 , ax = ax , color = 'red')\n",
    "\n",
    "#dataframe after performing CCA\n",
    "#making overlapping graph for comparing with orignal distribution \n",
    "\n",
    "data_cca['GrLivArea'].hist(bins = 50 , ax = ax , color = 'green')\n"
   ]
  },
  {
   "cell_type": "code",
   "execution_count": 19,
   "id": "566ff810",
   "metadata": {
    "execution": {
     "iopub.execute_input": "2024-01-04T12:25:36.304493Z",
     "iopub.status.busy": "2024-01-04T12:25:36.303410Z",
     "iopub.status.idle": "2024-01-04T12:25:36.789708Z",
     "shell.execute_reply": "2024-01-04T12:25:36.788378Z"
    },
    "papermill": {
     "duration": 0.504569,
     "end_time": "2024-01-04T12:25:36.792659",
     "exception": false,
     "start_time": "2024-01-04T12:25:36.288090",
     "status": "completed"
    },
    "tags": []
   },
   "outputs": [
    {
     "data": {
      "text/plain": [
       "<Axes: >"
      ]
     },
     "execution_count": 19,
     "metadata": {},
     "output_type": "execute_result"
    },
    {
     "data": {
      "image/png": "[encoded data removed]",
      "text/plain": [
       "<Figure size 640x480 with 1 Axes>"
      ]
     },
     "metadata": {},
     "output_type": "display_data"
    }
   ],
   "source": [
    "fig = plt.figure()\n",
    "ax = fig.add_subplot(111)\n",
    "\n",
    "#orignal data\n",
    "df['BsmtFinSF1'].hist(bins=50,ax=ax,density = True, color = 'blue')\n",
    "\n",
    "#data after cca\n",
    "\n",
    "data_cca['BsmtFinSF1'].hist(bins = 50 , ax = ax , density = True , alpha = 0.8 , color = 'red')"
   ]
  },
  {
   "cell_type": "code",
   "execution_count": 20,
   "id": "c271a172",
   "metadata": {
    "execution": {
     "iopub.execute_input": "2024-01-04T12:25:36.822598Z",
     "iopub.status.busy": "2024-01-04T12:25:36.822154Z",
     "iopub.status.idle": "2024-01-04T12:25:36.829398Z",
     "shell.execute_reply": "2024-01-04T12:25:36.828088Z"
    },
    "papermill": {
     "duration": 0.025716,
     "end_time": "2024-01-04T12:25:36.831862",
     "exception": false,
     "start_time": "2024-01-04T12:25:36.806146",
     "status": "completed"
    },
    "tags": []
   },
   "outputs": [],
   "source": [
    "def for_categoricals(df,df_cca,variable): \n",
    "    temp = pd.concat(\n",
    "            [\n",
    "              df[variable].value_counts()/len(df),\n",
    "              df_cca[variable].value_counts()/len(df_cca)],\n",
    "        axis = 1\n",
    "    )\n",
    "    temp.columns = ['Actual' , 'After_CCA']\n",
    "    return temp"
   ]
  },
  {
   "cell_type": "code",
   "execution_count": 21,
   "id": "d1f955b8",
   "metadata": {
    "execution": {
     "iopub.execute_input": "2024-01-04T12:25:36.860772Z",
     "iopub.status.busy": "2024-01-04T12:25:36.860342Z",
     "iopub.status.idle": "2024-01-04T12:25:36.877979Z",
     "shell.execute_reply": "2024-01-04T12:25:36.876637Z"
    },
    "papermill": {
     "duration": 0.035422,
     "end_time": "2024-01-04T12:25:36.880811",
     "exception": false,
     "start_time": "2024-01-04T12:25:36.845389",
     "status": "completed"
    },
    "tags": []
   },
   "outputs": [
    {
     "data": {
      "text/html": [
       "<div>\n",
       "<style scoped>\n",
       "    .dataframe tbody tr th:only-of-type {\n",
       "        vertical-align: middle;\n",
       "    }\n",
       "\n",
       "    .dataframe tbody tr th {\n",
       "        vertical-align: top;\n",
       "    }\n",
       "\n",
       "    .dataframe thead th {\n",
       "        text-align: right;\n",
       "    }\n",
       "</style>\n",
       "<table border=\"1\" class=\"dataframe\">\n",
       "  <thead>\n",
       "    <tr style=\"text-align: right;\">\n",
       "      <th></th>\n",
       "      <th>Actual</th>\n",
       "      <th>After_CCA</th>\n",
       "    </tr>\n",
       "    <tr>\n",
       "      <th>BsmtQual</th>\n",
       "      <th></th>\n",
       "      <th></th>\n",
       "    </tr>\n",
       "  </thead>\n",
       "  <tbody>\n",
       "    <tr>\n",
       "      <th>TA</th>\n",
       "      <td>0.444521</td>\n",
       "      <td>0.458924</td>\n",
       "    </tr>\n",
       "    <tr>\n",
       "      <th>Gd</th>\n",
       "      <td>0.423288</td>\n",
       "      <td>0.431303</td>\n",
       "    </tr>\n",
       "    <tr>\n",
       "      <th>Ex</th>\n",
       "      <td>0.082877</td>\n",
       "      <td>0.084986</td>\n",
       "    </tr>\n",
       "    <tr>\n",
       "      <th>Fa</th>\n",
       "      <td>0.023973</td>\n",
       "      <td>0.024788</td>\n",
       "    </tr>\n",
       "  </tbody>\n",
       "</table>\n",
       "</div>"
      ],
      "text/plain": [
       "            Actual  After_CCA\n",
       "BsmtQual                     \n",
       "TA        0.444521   0.458924\n",
       "Gd        0.423288   0.431303\n",
       "Ex        0.082877   0.084986\n",
       "Fa        0.023973   0.024788"
      ]
     },
     "execution_count": 21,
     "metadata": {},
     "output_type": "execute_result"
    }
   ],
   "source": [
    "for_categoricals(df,data_cca ,'BsmtQual' )"
   ]
  },
  {
   "cell_type": "code",
   "execution_count": 22,
   "id": "dc915476",
   "metadata": {
    "execution": {
     "iopub.execute_input": "2024-01-04T12:25:36.911025Z",
     "iopub.status.busy": "2024-01-04T12:25:36.909676Z",
     "iopub.status.idle": "2024-01-04T12:25:36.926441Z",
     "shell.execute_reply": "2024-01-04T12:25:36.925273Z"
    },
    "papermill": {
     "duration": 0.034376,
     "end_time": "2024-01-04T12:25:36.928803",
     "exception": false,
     "start_time": "2024-01-04T12:25:36.894427",
     "status": "completed"
    },
    "tags": []
   },
   "outputs": [
    {
     "data": {
      "text/html": [
       "<div>\n",
       "<style scoped>\n",
       "    .dataframe tbody tr th:only-of-type {\n",
       "        vertical-align: middle;\n",
       "    }\n",
       "\n",
       "    .dataframe tbody tr th {\n",
       "        vertical-align: top;\n",
       "    }\n",
       "\n",
       "    .dataframe thead th {\n",
       "        text-align: right;\n",
       "    }\n",
       "</style>\n",
       "<table border=\"1\" class=\"dataframe\">\n",
       "  <thead>\n",
       "    <tr style=\"text-align: right;\">\n",
       "      <th></th>\n",
       "      <th>Actual</th>\n",
       "      <th>After_CCA</th>\n",
       "    </tr>\n",
       "    <tr>\n",
       "      <th>ScreenPorch</th>\n",
       "      <th></th>\n",
       "      <th></th>\n",
       "    </tr>\n",
       "  </thead>\n",
       "  <tbody>\n",
       "    <tr>\n",
       "      <th>0</th>\n",
       "      <td>0.920548</td>\n",
       "      <td>0.917847</td>\n",
       "    </tr>\n",
       "    <tr>\n",
       "      <th>192</th>\n",
       "      <td>0.004110</td>\n",
       "      <td>0.004249</td>\n",
       "    </tr>\n",
       "    <tr>\n",
       "      <th>120</th>\n",
       "      <td>0.003425</td>\n",
       "      <td>0.003541</td>\n",
       "    </tr>\n",
       "    <tr>\n",
       "      <th>224</th>\n",
       "      <td>0.003425</td>\n",
       "      <td>0.003541</td>\n",
       "    </tr>\n",
       "    <tr>\n",
       "      <th>189</th>\n",
       "      <td>0.002740</td>\n",
       "      <td>0.002833</td>\n",
       "    </tr>\n",
       "  </tbody>\n",
       "</table>\n",
       "</div>"
      ],
      "text/plain": [
       "               Actual  After_CCA\n",
       "ScreenPorch                     \n",
       "0            0.920548   0.917847\n",
       "192          0.004110   0.004249\n",
       "120          0.003425   0.003541\n",
       "224          0.003425   0.003541\n",
       "189          0.002740   0.002833"
      ]
     },
     "execution_count": 22,
     "metadata": {},
     "output_type": "execute_result"
    }
   ],
   "source": [
    "t = for_categoricals(df,data_cca , 'ScreenPorch')\n",
    "t.head()"
   ]
  },
  {
   "cell_type": "markdown",
   "id": "bc2ec584",
   "metadata": {
    "papermill": {
     "duration": 0.076803,
     "end_time": "2024-01-04T12:25:37.019440",
     "exception": false,
     "start_time": "2024-01-04T12:25:36.942637",
     "status": "completed"
    },
    "tags": []
   },
   "source": [
    "<p style=\"background-color:#E2E2E2; color: #19747E; padding: 20px; font-size: 18px;\"> <b><u>CONCLUSION</u></b><br>\n",
    "    1) ✅ If the number of missing values is minimal, using Complete Component Analysis (CCA) is a good option. 📉🔍\n",
    "<br><br>\n",
    "    2) 🎯 If the missing values are specific to a particular attribute, it's a smarter choice to apply CCA. 🧠🔍\n",
    "<br><br>\n",
    "    3) 📊 As evidenced by the graph and frequency comparison for categorical data, CCA does not manipulate the data distribution. 📈🔄\n",
    "</p>\n",
    "\n"
   ]
  },
  {
   "cell_type": "code",
   "execution_count": null,
   "id": "4faa0a13",
   "metadata": {
    "papermill": {
     "duration": 0.014328,
     "end_time": "2024-01-04T12:25:37.048257",
     "exception": false,
     "start_time": "2024-01-04T12:25:37.033929",
     "status": "completed"
    },
    "tags": []
   },
   "outputs": [],
   "source": []
  }
 ],
 "metadata": {
  "kaggle": {
   "accelerator": "none",
   "dataSources": [
    {
     "datasetId": 1938644,
     "sourceId": 3193090,
     "sourceType": "datasetVersion"
    }
   ],
   "dockerImageVersionId": 30626,
   "isGpuEnabled": false,
   "isInternetEnabled": true,
   "language": "python",
   "sourceType": "notebook"
  },
  "kernelspec": {
   "display_name": "Python 3",
   "language": "python",
   "name": "python3"
  },
  "language_info": {
   "codemirror_mode": {
    "name": "ipython",
    "version": 3
   },
   "file_extension": ".py",
   "mimetype": "text/x-python",
   "name": "python",
   "nbconvert_exporter": "python",
   "pygments_lexer": "ipython3",
   "version": "3.10.12"
  },
  "papermill": {
   "default_parameters": {},
   "duration": 8.941477,
   "end_time": "2024-01-04T12:25:37.585996",
   "environment_variables": {},
   "exception": null,
   "input_path": "__notebook__.ipynb",
   "output_path": "__notebook__.ipynb",
   "parameters": {},
   "start_time": "2024-01-04T12:25:28.644519",
   "version": "2.4.0"
  }
 },
 "nbformat": 4,
 "nbformat_minor": 5
}
